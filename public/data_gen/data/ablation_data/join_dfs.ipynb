{
 "cells": [
  {
   "cell_type": "code",
   "execution_count": 1,
   "metadata": {},
   "outputs": [],
   "source": [
    "import pandas as pd\n",
    "import os\n",
    "import numpy as np"
   ]
  },
  {
   "cell_type": "code",
   "execution_count": 2,
   "metadata": {},
   "outputs": [],
   "source": [
    "baselines = ['eg', 'gaussian', 'ig', 'max_dist', 'uniform', 'blur', 'null_gaussian']\n",
    "ablation_types = ['mean', 'blur', 'mean_center', 'blur_center']"
   ]
  },
  {
   "cell_type": "code",
   "execution_count": 3,
   "metadata": {},
   "outputs": [],
   "source": [
    "for ablation_type in ablation_types:\n",
    "    os.makedirs(ablation_type, exist_ok=True)\n",
    "    for baseline in baselines:\n",
    "        try:\n",
    "            os.rename('{}_{}.csv'.format(ablation_type, baseline),\n",
    "                      '{}/{}.csv'.format(ablation_type, baseline))\n",
    "        except FileNotFoundError:\n",
    "            pass"
   ]
  },
  {
   "cell_type": "code",
   "execution_count": 4,
   "metadata": {},
   "outputs": [],
   "source": [
    "for ablation_type in ablation_types:\n",
    "    df_list = []\n",
    "    for baseline in baselines:\n",
    "        df = pd.read_csv('{}/{}.csv'.format(ablation_type, baseline))\n",
    "        df['baseline'] = baseline\n",
    "        df['k'] = np.around(df['k'], decimals=1)\n",
    "        df_list.append(df)\n",
    "    df_total = pd.concat(df_list, axis=0)\n",
    "    df_total.to_csv('{}/final.csv'.format(ablation_type), index=False)"
   ]
  }
 ],
 "metadata": {
  "kernelspec": {
   "display_name": "Python 3",
   "language": "python",
   "name": "python3"
  },
  "language_info": {
   "codemirror_mode": {
    "name": "ipython",
    "version": 3
   },
   "file_extension": ".py",
   "mimetype": "text/x-python",
   "name": "python",
   "nbconvert_exporter": "python",
   "pygments_lexer": "ipython3",
   "version": "3.7.4"
  }
 },
 "nbformat": 4,
 "nbformat_minor": 4
}
