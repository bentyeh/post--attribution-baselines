{
 "cells": [
  {
   "cell_type": "code",
   "execution_count": 1,
   "metadata": {},
   "outputs": [],
   "source": [
    "%load_ext autoreload\n",
    "%autoreload 2"
   ]
  },
  {
   "cell_type": "code",
   "execution_count": 2,
   "metadata": {},
   "outputs": [],
   "source": [
    "import os\n",
    "import sys\n",
    "module_path = os.path.abspath(os.path.join('..'))\n",
    "if module_path not in sys.path:\n",
    "    sys.path.append(module_path)\n",
    "import utils"
   ]
  },
  {
   "cell_type": "code",
   "execution_count": 3,
   "metadata": {},
   "outputs": [],
   "source": [
    "import tensorflow as tf\n",
    "import numpy as np\n",
    "import data\n",
    "import train\n",
    "import matplotlib.pyplot as plt\n",
    "from regularized_explanations import eager_ops, plot\n",
    "from skimage import feature\n",
    "import scipy"
   ]
  },
  {
   "cell_type": "code",
   "execution_count": 4,
   "metadata": {},
   "outputs": [
    {
     "name": "stdout",
     "output_type": "stream",
     "text": [
      "WARNING:tensorflow:From /home/psturm/VisualizingExpectedGradients/docs/data_gen/decoy_mnist_examples/train.py:17: The name tf.enable_eager_execution is deprecated. Please use tf.compat.v1.enable_eager_execution instead.\n",
      "\n"
     ]
    }
   ],
   "source": [
    "train.set_up_environment()"
   ]
  },
  {
   "cell_type": "code",
   "execution_count": 5,
   "metadata": {},
   "outputs": [
    {
     "name": "stdout",
     "output_type": "stream",
     "text": [
      "WARNING:tensorflow:Sequential models without an `input_shape` passed to the first layer cannot reload their optimizer state. As a result, your model isstarting with a freshly initialized optimizer.\n"
     ]
    }
   ],
   "source": [
    "model = tf.keras.models.load_model('saved_model.h5')"
   ]
  },
  {
   "cell_type": "code",
   "execution_count": 6,
   "metadata": {},
   "outputs": [],
   "source": [
    "x_train, y_train, x_test, y_test = data.decoy_mnist()"
   ]
  },
  {
   "cell_type": "code",
   "execution_count": 13,
   "metadata": {},
   "outputs": [],
   "source": [
    "for c in range(10):\n",
    "    index = np.where(y_train == c)[0][0]\n",
    "    \n",
    "    edges = feature.canny(x_train[index, :, :, 0]).astype(float)\n",
    "    smoothed_edges = scipy.ndimage.filters.gaussian_filter(edges, 2.0)\n",
    "    \n",
    "    eg_saliency = eager_ops.expected_gradients_multi_output(tf.constant(x_train[index:index+1]), \n",
    "                                                            x_train, model, 10, k=100)\n",
    "    eg_saliency = np.abs(eg_saliency[0, c, :, :, 0])\n",
    "    \n",
    "    utils.save_image(x_train[index, :, :, 0], 'images/decoy{}.png'.format(c), minval=-0.5, maxval=0.5)\n",
    "    utils.save_image(eg_saliency, 'images/saliency{}.png'.format(c), minval=0.0, maxval=np.max(eg_saliency))\n",
    "    utils.save_image(smoothed_edges, 'images/edges{}.png'.format(c), minval=0.0, maxval=np.max(smoothed_edges))"
   ]
  }
 ],
 "metadata": {
  "kernelspec": {
   "display_name": "Python 3",
   "language": "python",
   "name": "python3"
  },
  "language_info": {
   "codemirror_mode": {
    "name": "ipython",
    "version": 3
   },
   "file_extension": ".py",
   "mimetype": "text/x-python",
   "name": "python",
   "nbconvert_exporter": "python",
   "pygments_lexer": "ipython3",
   "version": "3.6.8"
  }
 },
 "nbformat": 4,
 "nbformat_minor": 4
}
