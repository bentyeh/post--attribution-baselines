{
 "cells": [
  {
   "cell_type": "code",
   "execution_count": 13,
   "metadata": {},
   "outputs": [],
   "source": [
    "import matplotlib.pyplot as plt\n",
    "import seaborn as sns; sns.set()\n",
    "import numpy as np\n",
    "import tensorflow as tf\n",
    "from attacks import IntegratedGradientsAttack\n",
    "\n",
    "from get_network import get_model"
   ]
  },
  {
   "cell_type": "code",
   "execution_count": 2,
   "metadata": {},
   "outputs": [
    {
     "name": "stdout",
     "output_type": "stream",
     "text": [
      "Warning: value `1` of parameter k will be ignored because background_ref_op was callable\n"
     ]
    }
   ],
   "source": [
    "model, sess = get_model(dataset_split_name='train', random_alpha=False, reference='black')"
   ]
  },
  {
   "cell_type": "code",
   "execution_count": 3,
   "metadata": {},
   "outputs": [],
   "source": [
    "target_images = np.load('data/images.npy')\n",
    "goldfinch = np.expand_dims(target_images[2], axis=0)"
   ]
  },
  {
   "cell_type": "code",
   "execution_count": 19,
   "metadata": {},
   "outputs": [],
   "source": [
    "attack_object = IntegratedGradientsAttack(model)"
   ]
  },
  {
   "cell_type": "code",
   "execution_count": null,
   "metadata": {},
   "outputs": [
    {
     "name": "stderr",
     "output_type": "stream",
     "text": [
      "Exception ignored in: <bound method TF_Output.<lambda> of <tensorflow.python.pywrap_tensorflow_internal.TF_Output; proxy of <Swig Object of type 'TF_Output *' at 0x7ef9a5d55750> >>\n",
      "Traceback (most recent call last):\n",
      "  File \"/home/psturm/anaconda3/lib/python3.6/site-packages/tensorflow/python/pywrap_tensorflow_internal.py\", line 1058, in <lambda>\n",
      "    __del__ = lambda self: None\n",
      "KeyboardInterrupt: \n"
     ]
    }
   ],
   "source": [
    "attack_object.create_losses(sess)"
   ]
  },
  {
   "cell_type": "code",
   "execution_count": 25,
   "metadata": {},
   "outputs": [
    {
     "name": "stderr",
     "output_type": "stream",
     "text": [
      "  0%|          | 0/300 [00:00<?, ?it/s]\n"
     ]
    },
    {
     "ename": "AttributeError",
     "evalue": "'IntegratedGradientsAttack' object has no attribute 'top_index'",
     "output_type": "error",
     "traceback": [
      "\u001b[0;31m---------------------------------------------------------------------------\u001b[0m",
      "\u001b[0;31mAttributeError\u001b[0m                            Traceback (most recent call last)",
      "\u001b[0;32m<ipython-input-25-9df10610598f>\u001b[0m in \u001b[0;36m<module>\u001b[0;34m\u001b[0m\n\u001b[0;32m----> 1\u001b[0;31m \u001b[0mperturbed_goldfinch\u001b[0m \u001b[0;34m=\u001b[0m \u001b[0mattack_object\u001b[0m\u001b[0;34m.\u001b[0m\u001b[0miterative_attack\u001b[0m\u001b[0;34m(\u001b[0m\u001b[0msess\u001b[0m\u001b[0;34m,\u001b[0m \u001b[0mgoldfinch\u001b[0m\u001b[0;34m,\u001b[0m \u001b[0mattack_method\u001b[0m\u001b[0;34m=\u001b[0m\u001b[0;34m'random'\u001b[0m\u001b[0;34m)\u001b[0m\u001b[0;34m\u001b[0m\u001b[0;34m\u001b[0m\u001b[0m\n\u001b[0m",
      "\u001b[0;32m~/VisualizingExpectedGradients/docs/data_gen/attacks.py\u001b[0m in \u001b[0;36miterative_attack\u001b[0;34m(self, sess, image, attack_method, iters, alpha)\u001b[0m\n\u001b[1;32m     85\u001b[0m                 \u001b[0mprint\u001b[0m\u001b[0;34m(\u001b[0m\u001b[0;34m'Stopping at iteration {} as the predicted label has changed.'\u001b[0m\u001b[0;34m)\u001b[0m\u001b[0;34m\u001b[0m\u001b[0;34m\u001b[0m\u001b[0m\n\u001b[1;32m     86\u001b[0m                 \u001b[0;32mbreak\u001b[0m\u001b[0;34m\u001b[0m\u001b[0;34m\u001b[0m\u001b[0m\n\u001b[0;32m---> 87\u001b[0;31m             \u001b[0mcurrent_metric\u001b[0m \u001b[0;34m=\u001b[0m \u001b[0mself\u001b[0m\u001b[0;34m.\u001b[0m\u001b[0m_attack_metric\u001b[0m\u001b[0;34m(\u001b[0m\u001b[0msess\u001b[0m\u001b[0;34m,\u001b[0m \u001b[0mbase_image\u001b[0m\u001b[0;34m,\u001b[0m \u001b[0mperturbed_image\u001b[0m\u001b[0;34m)\u001b[0m\u001b[0;34m\u001b[0m\u001b[0;34m\u001b[0m\u001b[0m\n\u001b[0m\u001b[1;32m     88\u001b[0m             \u001b[0;32mif\u001b[0m \u001b[0mcurrent_metric\u001b[0m \u001b[0;34m<\u001b[0m \u001b[0mbest_metric\u001b[0m\u001b[0;34m:\u001b[0m\u001b[0;34m\u001b[0m\u001b[0;34m\u001b[0m\u001b[0m\n\u001b[1;32m     89\u001b[0m                 \u001b[0mcurrent_metric\u001b[0m \u001b[0;34m=\u001b[0m \u001b[0mbest_metric\u001b[0m\u001b[0;34m\u001b[0m\u001b[0;34m\u001b[0m\u001b[0m\n",
      "\u001b[0;32m~/VisualizingExpectedGradients/docs/data_gen/attacks.py\u001b[0m in \u001b[0;36m_attack_metric\u001b[0;34m(self, sess, base_image, perturbed_image)\u001b[0m\n\u001b[1;32m     64\u001b[0m \u001b[0;34m\u001b[0m\u001b[0m\n\u001b[1;32m     65\u001b[0m     \u001b[0;32mdef\u001b[0m \u001b[0m_attack_metric\u001b[0m\u001b[0;34m(\u001b[0m\u001b[0mself\u001b[0m\u001b[0;34m,\u001b[0m \u001b[0msess\u001b[0m\u001b[0;34m,\u001b[0m \u001b[0mbase_image\u001b[0m\u001b[0;34m,\u001b[0m \u001b[0mperturbed_image\u001b[0m\u001b[0;34m)\u001b[0m\u001b[0;34m:\u001b[0m\u001b[0;34m\u001b[0m\u001b[0;34m\u001b[0m\u001b[0m\n\u001b[0;32m---> 66\u001b[0;31m         base_top_k = sess.run(self.top_index, feed_dict={self.model.images_pl: base_image,\n\u001b[0m\u001b[1;32m     67\u001b[0m                                                                     self.model.train_eg: True})\n\u001b[1;32m     68\u001b[0m         perturbed_top_k = sess.run(self.top_index, feed_dict={self.model.images_pl: perturbed_image,\n",
      "\u001b[0;31mAttributeError\u001b[0m: 'IntegratedGradientsAttack' object has no attribute 'top_index'"
     ]
    }
   ],
   "source": [
    "perturbed_goldfinch = attack_object.iterative_attack(sess, goldfinch, attack_method='random')"
   ]
  }
 ],
 "metadata": {
  "kernelspec": {
   "display_name": "Python 3",
   "language": "python",
   "name": "python3"
  },
  "language_info": {
   "codemirror_mode": {
    "name": "ipython",
    "version": 3
   },
   "file_extension": ".py",
   "mimetype": "text/x-python",
   "name": "python",
   "nbconvert_exporter": "python",
   "pygments_lexer": "ipython3",
   "version": "3.6.8"
  }
 },
 "nbformat": 4,
 "nbformat_minor": 4
}
